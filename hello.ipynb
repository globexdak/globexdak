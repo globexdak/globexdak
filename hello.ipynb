{
  "nbformat": 4,
  "nbformat_minor": 0,
  "metadata": {
    "colab": {
      "provenance": [],
      "toc_visible": true,
      "authorship_tag": "ABX9TyMSMBfTzuo3ADR6c4JdBeCH",
      "include_colab_link": true
    },
    "kernelspec": {
      "name": "python3",
      "display_name": "Python 3"
    },
    "language_info": {
      "name": "python"
    }
  },
  "cells": [
    {
      "cell_type": "markdown",
      "metadata": {
        "id": "view-in-github",
        "colab_type": "text"
      },
      "source": [
        "<a href=\"https://colab.research.google.com/github/globexdak/globexdak/blob/master/hello.ipynb\" target=\"_parent\"><img src=\"https://colab.research.google.com/assets/colab-badge.svg\" alt=\"Open In Colab\"/></a>"
      ]
    },
    {
      "cell_type": "code",
      "execution_count": 1,
      "metadata": {
        "colab": {
          "base_uri": "https://localhost:8080/"
        },
        "id": "7gU8UN8d-fX_",
        "outputId": "ea889ac3-6327-4c6d-c8c9-c3fa27358f12"
      },
      "outputs": [
        {
          "output_type": "stream",
          "name": "stdout",
          "text": [
            "hello python\n"
          ]
        }
      ],
      "source": [
        "print('hello python')"
      ]
    },
    {
      "cell_type": "markdown",
      "source": [
        "1.구글colab 테스트"
      ],
      "metadata": {
        "id": "1L5WM4eB_rWz"
      }
    },
    {
      "cell_type": "code",
      "source": [
        "print('hello python')"
      ],
      "metadata": {
        "colab": {
          "base_uri": "https://localhost:8080/"
        },
        "id": "0v7KKEJv_zYt",
        "outputId": "41ded800-0191-4f55-c7e2-c7c9af4bd9bd"
      },
      "execution_count": 2,
      "outputs": [
        {
          "output_type": "stream",
          "name": "stdout",
          "text": [
            "hello python\n"
          ]
        }
      ]
    }
  ]
}